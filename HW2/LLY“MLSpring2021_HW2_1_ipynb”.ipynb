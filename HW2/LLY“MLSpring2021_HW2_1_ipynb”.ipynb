{
  "nbformat": 4,
  "nbformat_minor": 0,
  "metadata": {
    "accelerator": "GPU",
    "colab": {
      "provenance": [],
      "gpuType": "T4"
    },
    "kernelspec": {
      "display_name": "Python 3",
      "name": "python3"
    }
  },
  "cells": [
    {
      "cell_type": "markdown",
      "metadata": {
        "id": "OYlaRwNu7ojq"
      },
      "source": [
        "# **Homework 2-1 Phoneme Classification**\n",
        "\n",
        "* Slides: https://speech.ee.ntu.edu.tw/~hylee/ml/ml2021-course-data/hw/HW02/HW02.pdf\n",
        "* Video (Chinese): https://youtu.be/PdjXnQbu2zo\n",
        "* Video (English): https://youtu.be/ESRr-VCykBs\n"
      ]
    },
    {
      "cell_type": "markdown",
      "metadata": {
        "id": "emUd7uS7crTz"
      },
      "source": [
        "## The DARPA TIMIT Acoustic-Phonetic Continuous Speech Corpus (TIMIT)\n",
        "The TIMIT corpus of reading speech has been designed to provide speech data for the acquisition of acoustic-phonetic knowledge and for the development and evaluation of automatic speech recognition systems.\n",
        "\n",
        "This homework is a multiclass classification task,\n",
        "we are going to train a deep neural network classifier to predict the phonemes for each frame from the speech corpus TIMIT.\n",
        "\n",
        "link: https://academictorrents.com/details/34e2b78745138186976cbc27939b1b34d18bd5b3"
      ]
    },
    {
      "cell_type": "markdown",
      "metadata": {
        "id": "KVUGfWTo7_Oj"
      },
      "source": [
        "## Download Data\n",
        "Download data from google drive, then unzip it.\n",
        "\n",
        "You should have `timit_11/train_11.npy`, `timit_11/train_label_11.npy`, and `timit_11/test_11.npy` after running this block.<br><br>\n",
        "`timit_11/`\n",
        "- `train_11.npy`: training data<br>\n",
        "- `train_label_11.npy`: training label<br>\n",
        "- `test_11.npy`:  testing data<br><br>\n",
        "\n",
        "**notes: if the google drive link is dead, you can download the data directly from Kaggle and upload it to the workspace**\n",
        "\n",
        "\n"
      ]
    },
    {
      "cell_type": "code",
      "source": [
        "from google.colab import drive\n",
        "drive.mount('/content/drive')"
      ],
      "metadata": {
        "id": "Dd0KBkwafP0o",
        "colab": {
          "base_uri": "https://localhost:8080/"
        },
        "outputId": "c5a4504e-a09b-435c-827f-eac224f837b6"
      },
      "execution_count": 1,
      "outputs": [
        {
          "output_type": "stream",
          "name": "stdout",
          "text": [
            "Mounted at /content/drive\n"
          ]
        }
      ]
    },
    {
      "cell_type": "code",
      "metadata": {
        "colab": {
          "base_uri": "https://localhost:8080/"
        },
        "id": "OzkiMEcC3Foq",
        "outputId": "fd0c29ad-be92-43fb-baf1-7d908784dbb6"
      },
      "source": [
        "# !gdown --id '1HPkcmQmFGu-3OknddKIa5dNDsR05lIQR' --output data.zip\n",
        "# !unzip data.zip\n",
        "!unzip /content/drive/MyDrive/ML2021/HW2/timit_11_v2.zip\n",
        "!ls"
      ],
      "execution_count": 2,
      "outputs": [
        {
          "output_type": "stream",
          "name": "stdout",
          "text": [
            "Archive:  /content/drive/MyDrive/ML2021/HW2/timit_11_v2.zip\n",
            "   creating: timit_11/\n",
            "  inflating: timit_11/train_11.npy   \n",
            "  inflating: timit_11/test_11.npy    \n",
            "  inflating: timit_11/train_label_11.npy  \n",
            "drive  sample_data  timit_11\n"
          ]
        }
      ]
    },
    {
      "cell_type": "markdown",
      "metadata": {
        "id": "_L_4anls8Drv"
      },
      "source": [
        "## Preparing Data\n",
        "Load the training and testing data from the `.npy` file (NumPy array)."
      ]
    },
    {
      "cell_type": "code",
      "metadata": {
        "colab": {
          "base_uri": "https://localhost:8080/"
        },
        "id": "IJjLT8em-y9G",
        "outputId": "6d865846-046a-4dc5-f7fa-f707f1d1f604"
      },
      "source": [
        "import numpy as np\n",
        "\n",
        "print('Loading data ...')\n",
        "\n",
        "data_root='./timit_11/'\n",
        "train = np.load(data_root + 'train_11.npy')\n",
        "train_label = np.load(data_root + 'train_label_11.npy')\n",
        "test = np.load(data_root + 'test_11.npy')\n",
        "\n",
        "print('Size of training data: {}'.format(train.shape))\n",
        "print('Size of testing data: {}'.format(test.shape))"
      ],
      "execution_count": 3,
      "outputs": [
        {
          "output_type": "stream",
          "name": "stdout",
          "text": [
            "Loading data ...\n",
            "Size of training data: (1229932, 429)\n",
            "Size of testing data: (451552, 429)\n"
          ]
        }
      ]
    },
    {
      "cell_type": "markdown",
      "metadata": {
        "id": "us5XW_x6udZQ"
      },
      "source": [
        "## Create Dataset"
      ]
    },
    {
      "cell_type": "code",
      "metadata": {
        "id": "Fjf5EcmJtf4e"
      },
      "source": [
        "import torch\n",
        "from torch.utils.data import Dataset\n",
        "\n",
        "class TIMITDataset(Dataset):\n",
        "    def __init__(self, X, y=None):\n",
        "        self.data = torch.from_numpy(X).float()\n",
        "        if y is not None:\n",
        "            y = y.astype(np.int)\n",
        "            self.label = torch.LongTensor(y)\n",
        "        else:\n",
        "            self.label = None\n",
        "\n",
        "    def __getitem__(self, idx):\n",
        "        if self.label is not None:\n",
        "            return self.data[idx], self.label[idx]\n",
        "        else:\n",
        "            return self.data[idx]\n",
        "\n",
        "    def __len__(self):\n",
        "        return len(self.data)\n"
      ],
      "execution_count": 4,
      "outputs": []
    },
    {
      "cell_type": "markdown",
      "metadata": {
        "id": "otIC6WhGeh9v"
      },
      "source": [
        "Split the labeled data into a training set and a validation set, you can modify the variable `VAL_RATIO` to change the ratio of validation data."
      ]
    },
    {
      "cell_type": "code",
      "metadata": {
        "colab": {
          "base_uri": "https://localhost:8080/"
        },
        "id": "sYqi_lAuvC59",
        "outputId": "180ef9cd-5924-4e41-c8da-d6d69bf5ff69"
      },
      "source": [
        "VAL_RATIO = 0.2\n",
        "\n",
        "percent = int(train.shape[0] * (1 - VAL_RATIO))\n",
        "train_x, train_y, val_x, val_y = train[:percent], train_label[:percent], train[percent:], train_label[percent:]\n",
        "print('Size of training set: {}'.format(train_x.shape))\n",
        "print('Size of validation set: {}'.format(val_x.shape))"
      ],
      "execution_count": 5,
      "outputs": [
        {
          "output_type": "stream",
          "name": "stdout",
          "text": [
            "Size of training set: (983945, 429)\n",
            "Size of validation set: (245987, 429)\n"
          ]
        }
      ]
    },
    {
      "cell_type": "markdown",
      "metadata": {
        "id": "nbCfclUIgMTX"
      },
      "source": [
        "Create a data loader from the dataset, feel free to tweak the variable `BATCH_SIZE` here."
      ]
    },
    {
      "cell_type": "code",
      "metadata": {
        "id": "RUCbQvqJurYc",
        "colab": {
          "base_uri": "https://localhost:8080/"
        },
        "outputId": "68020f3f-bc98-4540-bbc0-ad212a838276"
      },
      "source": [
        "BATCH_SIZE = 1024  # 增加了batch_size64 -> 1024\n",
        "\n",
        "from torch.utils.data import DataLoader\n",
        "\n",
        "train_set = TIMITDataset(train_x, train_y)\n",
        "val_set = TIMITDataset(val_x, val_y)\n",
        "# ！输入11个（包含了前后各5个，那还能shuffle吗）！：这个输入不是在程式里实现的，而是在数据集里就已经做好了（第二维是429=11*39）\n",
        "train_loader = DataLoader(train_set, batch_size=BATCH_SIZE, shuffle=True) #only shuffle the training data\n",
        "val_loader = DataLoader(val_set, batch_size=BATCH_SIZE, shuffle=False)"
      ],
      "execution_count": 6,
      "outputs": [
        {
          "output_type": "stream",
          "name": "stderr",
          "text": [
            "<ipython-input-4-f6af567917fe>:8: DeprecationWarning: `np.int` is a deprecated alias for the builtin `int`. To silence this warning, use `int` by itself. Doing this will not modify any behavior and is safe. When replacing `np.int`, you may wish to use e.g. `np.int64` or `np.int32` to specify the precision. If you wish to review your current use, check the release note link for additional information.\n",
            "Deprecated in NumPy 1.20; for more details and guidance: https://numpy.org/devdocs/release/1.20.0-notes.html#deprecations\n",
            "  y = y.astype(np.int)\n"
          ]
        }
      ]
    },
    {
      "cell_type": "markdown",
      "metadata": {
        "id": "_SY7X0lUgb50"
      },
      "source": [
        "Cleanup the unneeded variables to save memory.<br>\n",
        "\n",
        "**notes: if you need to use these variables later, then you may remove this block or clean up unneeded variables later<br>the data size is quite huge, so be aware of memory usage in colab**"
      ]
    },
    {
      "cell_type": "code",
      "metadata": {
        "colab": {
          "base_uri": "https://localhost:8080/"
        },
        "id": "y8rzkGraeYeN",
        "outputId": "47254394-8099-4962-c6a0-09e0c4b9f92c"
      },
      "source": [
        "import gc\n",
        "\n",
        "del train, train_label, train_x, train_y, val_x, val_y\n",
        "gc.collect()"
      ],
      "execution_count": 7,
      "outputs": [
        {
          "output_type": "execute_result",
          "data": {
            "text/plain": [
              "0"
            ]
          },
          "metadata": {},
          "execution_count": 7
        }
      ]
    },
    {
      "cell_type": "markdown",
      "metadata": {
        "id": "IRqKNvNZwe3V"
      },
      "source": [
        "## Create Model"
      ]
    },
    {
      "cell_type": "markdown",
      "metadata": {
        "id": "FYr1ng5fh9pA"
      },
      "source": [
        "Define model architecture, you are encouraged to change and experiment with the model architecture."
      ]
    },
    {
      "cell_type": "code",
      "metadata": {
        "id": "lbZrwT6Ny0XL"
      },
      "source": [
        "import torch\n",
        "import torch.nn as nn\n",
        "\n",
        "# class Classifier(nn.Module):\n",
        "#     def __init__(self):\n",
        "#         super(Classifier, self).__init__()\n",
        "#         self.layer1 = nn.Linear(429, 1024)\n",
        "#         self.layer2 = nn.Linear(1024, 512)\n",
        "#         self.layer3 = nn.Linear(512, 128)\n",
        "#         self.out = nn.Linear(128, 39)\n",
        "\n",
        "#         self.act_fn = nn.LeakyReLU() # Change1:sigmoid修改成LeakyReLU\n",
        "#         self.net = nn.Sequential(\n",
        "#             nn.Linear(429, 1024), # 1\n",
        "#             nn.LeakyReLU(),\n",
        "#             nn.BatchNorm1d(1024),   # Change3：加入BN\n",
        "#             # nn.Dropout(0.5),\n",
        "\n",
        "#             nn.Linear(1024, 512), # 2\n",
        "#             nn.LeakyReLU(),\n",
        "#             nn.BatchNorm1d(512),\n",
        "#             # nn.Dropout(0.5),\n",
        "\n",
        "#             nn.Linear(512,128), # 3\n",
        "#             nn.LeakyReLU(),\n",
        "#             nn.BatchNorm1d(128),\n",
        "#             # nn.Dropout(0.5),\n",
        "\n",
        "#             # nn.Linear(1024, 512), # 4\n",
        "#             # nn.LeakyReLU(),\n",
        "#             # nn.BatchNorm1d(512),\n",
        "#             # nn.Dropout(0.5),\n",
        "\n",
        "#             # nn.Linear(512, 128), # 5\n",
        "#             # #nn.ReLU(),\n",
        "#             # nn.LeakyReLU(),\n",
        "#             # nn.BatchNorm1d(128),\n",
        "#             # nn.Dropout(0.5),\n",
        "\n",
        "#             nn.Linear(128, 39)  # out\n",
        "#         )\n",
        "\n",
        "#     def forward(self, x):\n",
        "#         x = self.net(x)\n",
        "#         return x\n",
        "class Classifier(nn.Module):\n",
        "    def __init__(self):\n",
        "        super(Classifier, self).__init__()   # 丢掉了dropout\n",
        "        self.net = nn.Sequential(\n",
        "            nn.Linear(429, 2048), # 1\n",
        "\n",
        "            nn.ReLU(),\n",
        "            nn.BatchNorm1d(2048),\n",
        "            # nn.Dropout(0.5),\n",
        "            nn.Linear(2048, 2048), # 2\n",
        "\n",
        "            nn.ReLU(),\n",
        "            nn.BatchNorm1d(2048),\n",
        "            # nn.Dropout(0.5),\n",
        "            nn.Linear(2048,1024), # 3\n",
        "\n",
        "            nn.ReLU(),\n",
        "            nn.BatchNorm1d(1024),\n",
        "            # nn.Dropout(0.5),\n",
        "            nn.Linear(1024, 1024), # 4\n",
        "            nn.ReLU(),\n",
        "\n",
        "            nn.BatchNorm1d(1024),\n",
        "            # nn.Dropout(0.5),\n",
        "            nn.Linear(1024, 512), # 5\n",
        "            nn.ReLU(),\n",
        "\n",
        "            nn.BatchNorm1d(512),\n",
        "            # nn.Dropout(0.5),\n",
        "            nn.Linear(512, 128), # 6\n",
        "            nn.ReLU(),\n",
        "\n",
        "            nn.BatchNorm1d(128),\n",
        "            # nn.Dropout(0.5),\n",
        "            nn.Linear(128, 39)\n",
        "        )\n",
        "\n",
        "    def forward(self, x):\n",
        "        x = self.net(x)\n",
        "        return x"
      ],
      "execution_count": 8,
      "outputs": []
    },
    {
      "cell_type": "markdown",
      "metadata": {
        "id": "VRYciXZvPbYh"
      },
      "source": [
        "## Training"
      ]
    },
    {
      "cell_type": "code",
      "metadata": {
        "id": "y114Vmm3Ja6o"
      },
      "source": [
        "#check device\n",
        "def get_device():\n",
        "  return 'cuda' if torch.cuda.is_available() else 'cpu'"
      ],
      "execution_count": 9,
      "outputs": []
    },
    {
      "cell_type": "markdown",
      "metadata": {
        "id": "sEX-yjHjhGuH"
      },
      "source": [
        "Fix random seeds for reproducibility."
      ]
    },
    {
      "cell_type": "code",
      "metadata": {
        "id": "88xPiUnm0tAd"
      },
      "source": [
        "# fix random seed\n",
        "def same_seeds(seed):\n",
        "    torch.manual_seed(seed)\n",
        "    if torch.cuda.is_available():\n",
        "        torch.cuda.manual_seed(seed)\n",
        "        torch.cuda.manual_seed_all(seed)\n",
        "    np.random.seed(seed)\n",
        "    torch.backends.cudnn.benchmark = False\n",
        "    torch.backends.cudnn.deterministic = True"
      ],
      "execution_count": 10,
      "outputs": []
    },
    {
      "cell_type": "markdown",
      "metadata": {
        "id": "KbBcBXkSp6RA"
      },
      "source": [
        "Feel free to change the training parameters here."
      ]
    },
    {
      "cell_type": "code",
      "metadata": {
        "id": "QTp3ZXg1yO9Y",
        "colab": {
          "base_uri": "https://localhost:8080/"
        },
        "outputId": "b44c3a11-5a10-44b0-96c0-94325546db00"
      },
      "source": [
        "# fix random seed for reproducibility\n",
        "same_seeds(0)\n",
        "\n",
        "# get device\n",
        "device = get_device()\n",
        "print(f'DEVICE: {device}')\n",
        "\n",
        "# training parameters\n",
        "num_epoch = 40               # number of training epoch\n",
        "learning_rate = 0.0001       # learning rate\n",
        "# weight_decays = 1e-3   # l2正则化，但是看文献说与BN冲突，就不实用了。\n",
        "# the path where checkpoint saved\n",
        "model_path = './model.ckpt'\n",
        "\n",
        "# create model, define a loss function, and optimizer\n",
        "model = Classifier().to(device)\n",
        "criterion = nn.CrossEntropyLoss() # 包含了softmax\n",
        "optimizer = torch.optim.Adam(model.parameters(), lr=learning_rat)"
      ],
      "execution_count": 11,
      "outputs": [
        {
          "output_type": "stream",
          "name": "stdout",
          "text": [
            "DEVICE: cuda\n"
          ]
        }
      ]
    },
    {
      "cell_type": "code",
      "metadata": {
        "id": "CdMWsBs7zzNs",
        "colab": {
          "base_uri": "https://localhost:8080/"
        },
        "outputId": "3b3e7667-f610-4a91-d9b5-9b7c8af3e6e3"
      },
      "source": [
        "# start training\n",
        "epoch = 0\n",
        "best_acc = 0.0\n",
        "for epoch in range(num_epoch):\n",
        "    train_acc = 0.0\n",
        "    train_loss = 0.0\n",
        "    val_acc = 0.0\n",
        "    val_loss = 0.0\n",
        "\n",
        "    # training\n",
        "    model.train() # set the model to training mode\n",
        "    for i, data in enumerate(train_loader):\n",
        "        inputs, labels = data\n",
        "        inputs, labels = inputs.to(device), labels.to(device)\n",
        "        optimizer.zero_grad()\n",
        "        outputs = model(inputs)\n",
        "        batch_loss = criterion(outputs, labels)\n",
        "        _, train_pred = torch.max(outputs, 1) # get the index of the class with the highest probability\n",
        "        batch_loss.backward()\n",
        "        optimizer.step()\n",
        "\n",
        "        train_acc += (train_pred.cpu() == labels.cpu()).sum().item()\n",
        "        train_loss += batch_loss.item()\n",
        "\n",
        "    # validation\n",
        "    if len(val_set) > 0:\n",
        "        model.eval() # set the model to evaluation mode\n",
        "        with torch.no_grad():\n",
        "            for i, data in enumerate(val_loader):\n",
        "                inputs, labels = data\n",
        "                inputs, labels = inputs.to(device), labels.to(device)\n",
        "                outputs = model(inputs)\n",
        "                batch_loss = criterion(outputs, labels)\n",
        "                _, val_pred = torch.max(outputs, 1)\n",
        "\n",
        "                val_acc += (val_pred.cpu() == labels.cpu()).sum().item() # get the index of the class with the highest probability\n",
        "                val_loss += batch_loss.item()  # item() function: convert a tensor to a Python scalar. Note that the tensor shouled only have a single element\n",
        "\n",
        "            print('[{:03d}/{:03d}] Train Acc: {:3.6f} Loss: {:3.6f} | Val Acc: {:3.6f} loss: {:3.6f}'.format(\n",
        "                epoch + 1, num_epoch, train_acc/len(train_set), train_loss/len(train_loader), val_acc/len(val_set), val_loss/len(val_loader)\n",
        "            ))\n",
        "\n",
        "            # if the model improves, save a checkpoint at this epoch\n",
        "            if val_acc > best_acc:\n",
        "               best_acc = val_acc\n",
        "               torch.save(model.state_dict(), model_path)\n",
        "               print('saving model with acc {:.3f}'.format(best_acc/len(val_set)))\n",
        "    else:\n",
        "        print('[{:03d}/{:03d}] Train Acc: {:3.6f} Loss: {:3.6f}'.format(\n",
        "            epoch + 1, num_epoch, train_acc/len(train_set), train_loss/len(train_loader)\n",
        "        ))\n",
        "\n",
        "# if not validating, save the last epoch\n",
        "if len(val_set) == 0:\n",
        "    torch.save(model.state_dict(), model_path)\n",
        "    print('saving model at last epoch')\n"
      ],
      "execution_count": 12,
      "outputs": [
        {
          "output_type": "stream",
          "name": "stdout",
          "text": [
            "[001/040] Train Acc: 0.498559 Loss: 1.749151 | Val Acc: 0.646542 loss: 1.171921\n",
            "saving model with acc 0.647\n",
            "[002/040] Train Acc: 0.584781 Loss: 1.406368 | Val Acc: 0.667974 loss: 1.088104\n",
            "saving model with acc 0.668\n",
            "[003/040] Train Acc: 0.603636 Loss: 1.337179 | Val Acc: 0.685280 loss: 1.024988\n",
            "saving model with acc 0.685\n",
            "[004/040] Train Acc: 0.614037 Loss: 1.300728 | Val Acc: 0.686825 loss: 1.017097\n",
            "saving model with acc 0.687\n",
            "[005/040] Train Acc: 0.619573 Loss: 1.279768 | Val Acc: 0.692760 loss: 0.996984\n",
            "saving model with acc 0.693\n",
            "[006/040] Train Acc: 0.622564 Loss: 1.268020 | Val Acc: 0.695289 loss: 0.979337\n",
            "saving model with acc 0.695\n",
            "[007/040] Train Acc: 0.624944 Loss: 1.258709 | Val Acc: 0.699565 loss: 0.969710\n",
            "saving model with acc 0.700\n",
            "[008/040] Train Acc: 0.626466 Loss: 1.251936 | Val Acc: 0.697155 loss: 0.972163\n",
            "[009/040] Train Acc: 0.628281 Loss: 1.245299 | Val Acc: 0.698671 loss: 0.969849\n",
            "[010/040] Train Acc: 0.629016 Loss: 1.242025 | Val Acc: 0.699155 loss: 0.963354\n",
            "[011/040] Train Acc: 0.629715 Loss: 1.239091 | Val Acc: 0.699488 loss: 0.960479\n",
            "[012/040] Train Acc: 0.630823 Loss: 1.236274 | Val Acc: 0.703387 loss: 0.952638\n",
            "saving model with acc 0.703\n",
            "[013/040] Train Acc: 0.631319 Loss: 1.233694 | Val Acc: 0.703212 loss: 0.947960\n",
            "[014/040] Train Acc: 0.632153 Loss: 1.231812 | Val Acc: 0.704005 loss: 0.950949\n",
            "saving model with acc 0.704\n",
            "[015/040] Train Acc: 0.632955 Loss: 1.230183 | Val Acc: 0.704793 loss: 0.947317\n",
            "saving model with acc 0.705\n",
            "[016/040] Train Acc: 0.633006 Loss: 1.228544 | Val Acc: 0.706753 loss: 0.939692\n",
            "saving model with acc 0.707\n",
            "[017/040] Train Acc: 0.632545 Loss: 1.229134 | Val Acc: 0.707180 loss: 0.939506\n",
            "saving model with acc 0.707\n",
            "[018/040] Train Acc: 0.633412 Loss: 1.227125 | Val Acc: 0.706066 loss: 0.939864\n",
            "[019/040] Train Acc: 0.633927 Loss: 1.225728 | Val Acc: 0.707850 loss: 0.933717\n",
            "saving model with acc 0.708\n",
            "[020/040] Train Acc: 0.633206 Loss: 1.226447 | Val Acc: 0.706184 loss: 0.938000\n",
            "[021/040] Train Acc: 0.633613 Loss: 1.226626 | Val Acc: 0.707623 loss: 0.938149\n",
            "[022/040] Train Acc: 0.633610 Loss: 1.225769 | Val Acc: 0.707777 loss: 0.936653\n",
            "[023/040] Train Acc: 0.633888 Loss: 1.224218 | Val Acc: 0.706838 loss: 0.939047\n",
            "[024/040] Train Acc: 0.634259 Loss: 1.223457 | Val Acc: 0.707700 loss: 0.936309\n",
            "[025/040] Train Acc: 0.633595 Loss: 1.225208 | Val Acc: 0.708090 loss: 0.934617\n",
            "saving model with acc 0.708\n",
            "[026/040] Train Acc: 0.634403 Loss: 1.223584 | Val Acc: 0.707119 loss: 0.940191\n",
            "[027/040] Train Acc: 0.634084 Loss: 1.225962 | Val Acc: 0.707883 loss: 0.935531\n",
            "[028/040] Train Acc: 0.633993 Loss: 1.223192 | Val Acc: 0.706472 loss: 0.932877\n",
            "[029/040] Train Acc: 0.633833 Loss: 1.224070 | Val Acc: 0.710200 loss: 0.928765\n",
            "saving model with acc 0.710\n",
            "[030/040] Train Acc: 0.634041 Loss: 1.223090 | Val Acc: 0.708830 loss: 0.929107\n",
            "[031/040] Train Acc: 0.634199 Loss: 1.224790 | Val Acc: 0.706578 loss: 0.939596\n",
            "[032/040] Train Acc: 0.633829 Loss: 1.223499 | Val Acc: 0.707643 loss: 0.934087\n",
            "[033/040] Train Acc: 0.634871 Loss: 1.222602 | Val Acc: 0.707074 loss: 0.937882\n",
            "[034/040] Train Acc: 0.635032 Loss: 1.222403 | Val Acc: 0.707899 loss: 0.933753\n",
            "[035/040] Train Acc: 0.634692 Loss: 1.222924 | Val Acc: 0.706460 loss: 0.935069\n",
            "[036/040] Train Acc: 0.634593 Loss: 1.223989 | Val Acc: 0.709273 loss: 0.930173\n",
            "[037/040] Train Acc: 0.634269 Loss: 1.224345 | Val Acc: 0.706895 loss: 0.941084\n",
            "[038/040] Train Acc: 0.634603 Loss: 1.223657 | Val Acc: 0.708830 loss: 0.931905\n",
            "[039/040] Train Acc: 0.634833 Loss: 1.222897 | Val Acc: 0.711948 loss: 0.921958\n",
            "saving model with acc 0.712\n",
            "[040/040] Train Acc: 0.634635 Loss: 1.223873 | Val Acc: 0.707708 loss: 0.934750\n"
          ]
        }
      ]
    },
    {
      "cell_type": "markdown",
      "metadata": {
        "id": "1Hi7jTn3PX-m"
      },
      "source": [
        "## Testing"
      ]
    },
    {
      "cell_type": "markdown",
      "metadata": {
        "id": "NfUECMFCn5VG"
      },
      "source": [
        "Create a testing dataset, and load model from the saved checkpoint."
      ]
    },
    {
      "cell_type": "code",
      "metadata": {
        "id": "1PKjtAScPWtr",
        "colab": {
          "base_uri": "https://localhost:8080/"
        },
        "outputId": "95d0396d-4354-41b4-c532-9b1104a46ceb"
      },
      "source": [
        "# create testing dataset\n",
        "test_set = TIMITDataset(test, None)\n",
        "test_loader = DataLoader(test_set, batch_size=BATCH_SIZE, shuffle=False)\n",
        "\n",
        "# create model and load weights from checkpoint\n",
        "model = Classifier().to(device)\n",
        "model.load_state_dict(torch.load(model_path))"
      ],
      "execution_count": 13,
      "outputs": [
        {
          "output_type": "execute_result",
          "data": {
            "text/plain": [
              "<All keys matched successfully>"
            ]
          },
          "metadata": {},
          "execution_count": 13
        }
      ]
    },
    {
      "cell_type": "markdown",
      "metadata": {
        "id": "940TtCCdoYd0"
      },
      "source": [
        "Make prediction."
      ]
    },
    {
      "cell_type": "code",
      "metadata": {
        "id": "84HU5GGjPqR0"
      },
      "source": [
        "predict = []\n",
        "model.eval() # set the model to evaluation mode\n",
        "with torch.no_grad():\n",
        "    for i, data in enumerate(test_loader):\n",
        "        inputs = data\n",
        "        inputs = inputs.to(device)\n",
        "        outputs = model(inputs)\n",
        "        _, test_pred = torch.max(outputs, 1) # get the index of the class with the highest probability\n",
        "\n",
        "        for y in test_pred.cpu().numpy():\n",
        "            predict.append(y)"
      ],
      "execution_count": 14,
      "outputs": []
    },
    {
      "cell_type": "markdown",
      "metadata": {
        "id": "AWDf_C-omElb"
      },
      "source": [
        "Write prediction to a CSV file.\n",
        "\n",
        "After finish running this block, download the file `prediction.csv` from the files section on the left-hand side and submit it to Kaggle."
      ]
    },
    {
      "cell_type": "code",
      "metadata": {
        "id": "GuljYSPHcZir"
      },
      "source": [
        "with open('prediction.csv', 'w') as f:\n",
        "    f.write('Id,Class\\n')\n",
        "    for i, y in enumerate(predict):\n",
        "        f.write('{},{}\\n'.format(i, y))"
      ],
      "execution_count": 15,
      "outputs": []
    },
    {
      "cell_type": "markdown",
      "source": [
        "move the prediction.csv file to Google Drive"
      ],
      "metadata": {
        "id": "7fj3gxGL1VAN"
      }
    },
    {
      "cell_type": "code",
      "source": [
        "import shutil\n",
        "\n",
        "# Move the prediction.csv file to Google Drive\n",
        "shutil.move('prediction.csv', '/content/drive/MyDrive/ML2021/HW2/prediction_my.csv')"
      ],
      "metadata": {
        "colab": {
          "base_uri": "https://localhost:8080/",
          "height": 35
        },
        "id": "ptUHIqq7xUf7",
        "outputId": "64103ca0-8e94-4b13-83a1-e1101a1a1e0b"
      },
      "execution_count": 16,
      "outputs": [
        {
          "output_type": "execute_result",
          "data": {
            "text/plain": [
              "'/content/drive/MyDrive/ML2021/HW2/prediction.csv'"
            ],
            "application/vnd.google.colaboratory.intrinsic+json": {
              "type": "string"
            }
          },
          "metadata": {},
          "execution_count": 16
        }
      ]
    }
  ]
}